{
 "cells": [
  {
   "cell_type": "markdown",
   "id": "e09a1d49",
   "metadata": {},
   "source": [
    "1. What does an empty dictionary&#39;s code look like?\n",
    "d={}\n",
    "\n",
    "2. What is the value of a dictionary value with the key &#39;foo&#39; and the value 42?\n",
    "d={\"foo\":42}\n",
    "\n",
    "3. What is the most significant distinction between a dictionary and a list?\n",
    "--Dictionary canot be iterable through index and has key value pair\n",
    "--List are iterabe through index ie its ordered\n",
    "\n",
    "4. What happens if you try to access spam[\"foo\"] if spam is {'bar': 100}?\n",
    "--We will get the key value error\n",
    "                                          \n",
    "5. If a dictionary is stored in spam, what is the difference between the expressions &#39;cat&#39; in spam and\n",
    "\"cat\" in spam.keys()?\n",
    "--It will check \"cat\" as key in spam dictionary, it will check for \"cat\" as key in list of keys of spam.\n",
    "  Both does same task\n",
    "                                        \n",
    "6. If a dictionary is stored in spam, what is the difference between the expressions &#39;cat&#39; in spam and\n",
    "\"cat\" in spam.values()?\n",
    "--It will check \"cat\" as key in spam dictionary, and \"cat\" in spam.values() checks wether the \"cat\"key has any value in spam.\n",
    "                                          \n",
    "7. What is a shortcut for the following code?\n",
    "if \"color\" not in spam:\n",
    "spam [\"color\"] = \"black\";\n",
    "--- spam.setdefault[\"color\"]=\"black\"\n",
    "                                          \n",
    "8. How do you &quot;pretty print&quot; dictionary values using which module and function?\n",
    "pprint.pprint()\n",
    "                                          \n",
    "                                          "
   ]
  }
 ],
 "metadata": {
  "kernelspec": {
   "display_name": "Python 3 (ipykernel)",
   "language": "python",
   "name": "python3"
  },
  "language_info": {
   "codemirror_mode": {
    "name": "ipython",
    "version": 3
   },
   "file_extension": ".py",
   "mimetype": "text/x-python",
   "name": "python",
   "nbconvert_exporter": "python",
   "pygments_lexer": "ipython3",
   "version": "3.9.13"
  }
 },
 "nbformat": 4,
 "nbformat_minor": 5
}
