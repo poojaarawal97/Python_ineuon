{
 "cells": [
  {
   "cell_type": "code",
   "execution_count": 15,
   "id": "eeabcad1",
   "metadata": {},
   "outputs": [
    {
     "name": "stdout",
     "output_type": "stream",
     "text": [
      "* Its a matematical opeation\n",
      "hello is  <class 'str'>\n",
      "-87.8 its a special char\n",
      "- Its a matematical opeation\n",
      "/ Its a matematical opeation\n",
      "+ Its a matematical opeation\n",
      "6 is  <class 'int'>\n"
     ]
    }
   ],
   "source": [
    "'''1. In the below elements which of them are values or an expression? eg:- values can be\n",
    "integer or string and expressions will be mathematical operators.\n",
    "*\n",
    "\"hello\"--string\n",
    "-87.8 -- integer\n",
    "- --matematetical ops\n",
    "/ -- matematetical ops\n",
    "+ -- matematetical ops\n",
    "6''' --integer \n",
    "l1=['*', 'hello',-87.8,'-','/','+',6]\n",
    "\n",
    "for i in l1:\n",
    "    if(i == '+' or i == '-' or i == '*'or i == '/'):\n",
    "        print(i,\"Its a matematical opeation\")\n",
    "    elif(type(i) == str or type(i)==int):\n",
    "        print(i,\"is \",type(i))\n",
    "    else:\n",
    "        print(i,\"its a special char\")"
   ]
  },
  {
   "cell_type": "code",
   "execution_count": 19,
   "id": "aa0d7ade",
   "metadata": {},
   "outputs": [
    {
     "data": {
      "text/plain": [
       "float"
      ]
     },
     "execution_count": 19,
     "metadata": {},
     "output_type": "execute_result"
    }
   ],
   "source": [
    "\n"
   ]
  },
  {
   "cell_type": "code",
   "execution_count": null,
   "id": "74bdce38",
   "metadata": {},
   "outputs": [],
   "source": [
    "'''2. What is the difference between string and variable?'''\n",
    "-->string is a collection of Char \n",
    "-->vaiable is something like containerwhich can store/hold any type of value.\n"
   ]
  },
  {
   "cell_type": "code",
   "execution_count": null,
   "id": "2392d4e5",
   "metadata": {},
   "outputs": [],
   "source": [
    "'''3. Describe three different data types.'''\n",
    "-->String\n",
    "-->int\n",
    "--->float\n",
    "-->list\n",
    "-->tuple\n",
    "-->set\n",
    "-->dictionary\n"
   ]
  },
  {
   "cell_type": "code",
   "execution_count": null,
   "id": "e361114e",
   "metadata": {},
   "outputs": [],
   "source": [
    "'''4. What is an expression made up of? What do all expressions do?'''\n",
    "Expressions ae made of matematical operators and operans ,they ae defined to do some matematical/Logical operation based on our input."
   ]
  },
  {
   "cell_type": "code",
   "execution_count": null,
   "id": "b7abfe09",
   "metadata": {},
   "outputs": [],
   "source": [
    "'''5. This assignment statements, like spam = 10. What is the difference between an\n",
    "expression and a statement?'''\n",
    "\n",
    "expression is made of operators and operands and it will provide some output.\n",
    "assignment statement is assigning a value to variable."
   ]
  },
  {
   "cell_type": "code",
   "execution_count": 8,
   "id": "186ec93c",
   "metadata": {},
   "outputs": [
    {
     "name": "stdout",
     "output_type": "stream",
     "text": [
      "22\n"
     ]
    }
   ],
   "source": [
    "'''6. After running the following code, what does the variable bacon contain?\n",
    "bacon = 22\n",
    "bacon + 1'''\n",
    "bacon=22"
   ]
  },
  {
   "cell_type": "code",
   "execution_count": 11,
   "id": "9f45f55b",
   "metadata": {},
   "outputs": [
    {
     "data": {
      "text/plain": [
       "'spamspamspam'"
      ]
     },
     "execution_count": 11,
     "metadata": {},
     "output_type": "execute_result"
    }
   ],
   "source": [
    "'''7. What should the values of the following two terms be?\n",
    "'spam'+'spamspam';\n",
    "'spam' * 3'''\n",
    "-->spamspamspam'\n",
    "-->spamspamspam'\n"
   ]
  },
  {
   "cell_type": "code",
   "execution_count": null,
   "id": "d4ad4cf0",
   "metadata": {},
   "outputs": [],
   "source": [
    "'''8. Why is eggs a valid variable name while 100 is invalid?'''\n",
    "eggs can be valid variable name because its not a keywod and its not hoding any value we can store any value in it.\n",
    "100 is invalid variable because its integer value and it cannot be altered."
   ]
  },
  {
   "cell_type": "code",
   "execution_count": 12,
   "id": "42fd8993",
   "metadata": {},
   "outputs": [
    {
     "name": "stdout",
     "output_type": "stream",
     "text": [
      "10\n",
      "10\n",
      "10.0\n"
     ]
    }
   ],
   "source": [
    "'''9. What three functions can be used to get the integer, floating-point number, or string\n",
    "version of a value?'''\n",
    "a=10\n",
    "k=int(a)\n",
    "print(k)\n",
    "print(str(a))\n",
    "print(float(a))"
   ]
  },
  {
   "cell_type": "code",
   "execution_count": null,
   "id": "4c8cc7e9",
   "metadata": {},
   "outputs": [],
   "source": [
    "'''10. Why does this expression cause an error? How can you fix it?\n",
    "'I have eaten' + 99 + 'burritos.';'''\n",
    "because we cannot concatenate string and integer."
   ]
  }
 ],
 "metadata": {
  "kernelspec": {
   "display_name": "Python 3 (ipykernel)",
   "language": "python",
   "name": "python3"
  },
  "language_info": {
   "codemirror_mode": {
    "name": "ipython",
    "version": 3
   },
   "file_extension": ".py",
   "mimetype": "text/x-python",
   "name": "python",
   "nbconvert_exporter": "python",
   "pygments_lexer": "ipython3",
   "version": "3.9.13"
  }
 },
 "nbformat": 4,
 "nbformat_minor": 5
}
