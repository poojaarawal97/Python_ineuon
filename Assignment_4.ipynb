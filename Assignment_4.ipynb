{
 "cells": [
  {
   "cell_type": "raw",
   "id": "51e435cd",
   "metadata": {},
   "source": [
    "1. What exactly is []?\n",
    "it is used to define list elements\n",
    "\n",
    "2. In a list of values stored in a variable called spam, how would you assign the value &#39;hello&#39; as the\n",
    "third value? (Assume [2, 4, 6, 8, 10] are in spam.)\n",
    "spam[3]=\"hello\"\n",
    "\n",
    "Let&#39;s pretend the spam includes the list [&#39;a&#39;, &#39;b&#39;, &#39;c&#39;, &#39;d&#39;] for the next three queries.\n",
    "3. What is the value of spam[int(int(&#39;3&#39; * 2) / 11)]?\n",
    "'d'\n",
    "4. What is the value of spam[-1]?\n",
    "'a'\n",
    "5. What is the value of spam[:2]?\n",
    "[a,b]\n",
    "Let&#39;s pretend bacon has the list [3.14, &#39;cat,&#39; 11, &#39;cat,&#39; True] for the next three questions.\n",
    "6. What is the value of bacon.index(&#39;cat&#39;)?\n",
    "1\n",
    "7. How does bacon.append(99) change the look of the list value in bacon?\n",
    "[3.14, 'cat', 11, 'cat',True,99]\n",
    "8. How does bacon.remove(&#39;cat&#39;) change the look of the list in bacon?\n",
    "[3.14, 11, 'cat',True,99]\n",
    "\n",
    "9. What are the list concatenation and list replication operators?\n",
    " '+'+ is used for the list concatenation\n",
    "  '*'is used for the list replication\n",
    "10. What is difference between the list methods append() and insert()?\n",
    "append() --> it will add a new element to the list at the end\n",
    "insert() -> it will insert element at the given loation in ist\n",
    "11. What are the two methods for removing items from a list?\n",
    "remove()\n",
    "pop()\n",
    "\n",
    "12. Describe how list values and string values are identical.\n",
    "both are iterable and can be acessed using index opeation\n",
    "13. What&#39;s the difference between tuples and lists?\n",
    "Tuples are immutable,its represented using ()\n",
    "list is mutable and its represented using []\n",
    "\n",
    "14. How do you type a tuple value that only contains the integer 42?\n",
    "t=(42)\n",
    "15. How do you get a list value&#39;s tuple form? How do you get a tuple value&#39;s list form?\n",
    "l=tuple(list1)\n",
    "l1=list(tuple1)\n",
    "16. Variables that &quot;contain&quot; list values are not necessarily lists themselves. Instead, what do they\n",
    "contain?\n",
    " it can be anything list/tuple \n",
    "\n",
    "17. How do you distinguish between copy.copy() and copy.deepcopy()?\n",
    "\n",
    "In copy.copy() it will effeche orginal value and any modifiation done on the orginal list will affect the copied element\n",
    "\n",
    "In copy.deepcopy() it will not affect the orginal value of the list."
   ]
  }
 ],
 "metadata": {
  "kernelspec": {
   "display_name": "Python 3 (ipykernel)",
   "language": "python",
   "name": "python3"
  },
  "language_info": {
   "codemirror_mode": {
    "name": "ipython",
    "version": 3
   },
   "file_extension": ".py",
   "mimetype": "text/x-python",
   "name": "python",
   "nbconvert_exporter": "python",
   "pygments_lexer": "ipython3",
   "version": "3.9.13"
  }
 },
 "nbformat": 4,
 "nbformat_minor": 5
}
