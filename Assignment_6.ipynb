{
 "cells": [
  {
   "cell_type": "markdown",
   "id": "2306721c",
   "metadata": {},
   "source": [
    "1. What are escape characters, and how do you use them?\n",
    "-- these are used to insert a special char in the string just like \\n \\t \\\n",
    "-- if we want a tab space in the print(\"Pooja\\tArawal\")\n",
    "\n",
    "\n",
    "2. What do the escape characters n and t stand for?\n",
    "\\n-- new line\n",
    "\\t -- new tab\n",
    "3. What is the way to include backslash characters in a string?\n",
    "print(\"Pooja\\tArawal\")\n",
    "-- \"Pooja  Arawal\"\n",
    "\n",
    "\n",
    "4. The string &quot;Howl&#39;s Moving Castle&quot; is a correct value. Why isn&#39;t the single quote character in the\n",
    "word Howl&#39;s not escaped a problem?\n",
    "\n",
    "Because we need to add a escape chaaracter to it\n",
    "\n",
    "\n",
    "5. How do you write a string of newlines if you don&#39;t want to use the n character?\n",
    "using multiline string\n",
    "\n",
    "6. What are the values of the given expressions?\n",
    "\"Hello, world!\"[1] -\"e\"\n",
    "\"Hello, world!\"[0:5] -\"Hello\"\n",
    "\"Hello, world!\"[:5] -\"Hello\"\n",
    "\"Hello, world!\"[3:] -\"lo, world!\"\n",
    "\n",
    "7. What are the values of the following expressions?\n",
    "\"Hello\".upper() -- \"HELLO\"\n",
    "\"Hello\".upper().isupper() --True\n",
    "\"Hello\".upper().lower()   --\"hello\"\n",
    "8. What are the values of the following expressions?\n",
    "&#39;Remember, remember, the fifth of July.&#39;.split()-[\"Remember,\",\"remember,\",\"the\",\"fifth\",\"of\",\"July\"]\n",
    "&#39;-&#39;.join(&#39;There can only one.&#39;.split())- \"There-can-ony-one\"\n",
    "9. What are the methods for right-justifying, left-justifying, and centering a string?\n",
    "rjust(),ljust(),cjust()\n",
    "\n",
    "10. What is the best way to remove whitespace characters from the start or end?\n",
    "--strip()"
   ]
  }
 ],
 "metadata": {
  "kernelspec": {
   "display_name": "Python 3 (ipykernel)",
   "language": "python",
   "name": "python3"
  },
  "language_info": {
   "codemirror_mode": {
    "name": "ipython",
    "version": 3
   },
   "file_extension": ".py",
   "mimetype": "text/x-python",
   "name": "python",
   "nbconvert_exporter": "python",
   "pygments_lexer": "ipython3",
   "version": "3.9.13"
  }
 },
 "nbformat": 4,
 "nbformat_minor": 5
}
