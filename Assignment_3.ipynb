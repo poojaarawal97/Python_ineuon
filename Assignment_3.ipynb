{
 "cells": [
  {
   "cell_type": "markdown",
   "id": "c21588f2",
   "metadata": {},
   "source": [
    "1. Why are functions advantageous to have in your programs?\n",
    "--It will make a code more modular and reduce the time taken to wite code when we need to access it frequently and easy to understand and write functionality separately instead of mofdifying  the main program\n",
    "\n",
    "\n",
    "2. When does the code in a function run: when it&#39;s specified or when it&#39;s called?\n",
    "-- when its called\n",
    "\n",
    "3. What statement creates a function?\n",
    "-- def fun_name():\n",
    "    pass #fun body\n",
    "\n",
    "4. What is the difference between a function and a function call?\n",
    "-- function is part of program which performs a partiular task.eg:\n",
    "    def fun_name():\n",
    "        pass\n",
    "--function call is calling a function to perforem a particular task.\n",
    "      fun_name()\n",
    "    \n",
    "5. How many global scopes are there in a Python program? How many local scopes?\n",
    "--- one global scope, any number of local scope\n",
    "\n",
    "6. What happens to variables in a local scope when the function call returns?\n",
    "-- it will be active for the paticular function where its defined\n",
    "\n",
    "7. What is the concept of a return value? Is it possible to have a return value in an expression?\n",
    "This will return the result of a function ,Yes it can be used in  an expression\n",
    "eg: a=1+fun_name()\n",
    "\n",
    "8. If a function does not have a return statement, what is the return value of a call to that function?\n",
    "--None \n",
    "eg:def fun(a):\n",
    "    print(a) \n",
    "    \n",
    "k=fun(1)\n",
    "print(k)\n",
    "9. How do you make a function variable refer to the global variable?\n",
    "By using global key world\n",
    "\n",
    "\n",
    "\n",
    "10. What is the data type of None?\n",
    "NoneType\n",
    "11. What does the sentence import areallyourpetsnamederic do?\n",
    "It will import all the code from module areallyourpetsnamederic\n",
    "12. If you had a bacon() feature in a spam module, what would you call it after importing spam?\n",
    "spam.bacn()\n",
    "13. What can you do to save a programme from crashing if it encounters an error?\n",
    "by exception handling,using try and except block\n",
    "14. What is the purpose of the try clause? What is the purpose of the except clause?\n",
    "It will have the main pat of the program which does the task.\n",
    "\n",
    "except block is to handle theexception which occurs in try block."
   ]
  }
 ],
 "metadata": {
  "kernelspec": {
   "display_name": "Python 3 (ipykernel)",
   "language": "python",
   "name": "python3"
  },
  "language_info": {
   "codemirror_mode": {
    "name": "ipython",
    "version": 3
   },
   "file_extension": ".py",
   "mimetype": "text/x-python",
   "name": "python",
   "nbconvert_exporter": "python",
   "pygments_lexer": "ipython3",
   "version": "3.9.13"
  }
 },
 "nbformat": 4,
 "nbformat_minor": 5
}
